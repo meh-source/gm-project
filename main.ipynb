{
 "cells": [
  {
   "cell_type": "markdown",
   "id": "980cbcbc-8b49-4b82-ae0f-175afcf2adb6",
   "metadata": {},
   "source": [
    "# Election présidentielle 2022 / 1er tour (par régions): Clustering"
   ]
  },
  {
   "cell_type": "code",
   "execution_count": 124,
   "id": "8a0c69f6",
   "metadata": {},
   "outputs": [],
   "source": [
    "import numpy as np\n",
    "import pandas as pd\n",
    "import scipy.stats as sp\n",
    "\n",
    "import seaborn as sns\n",
    "import matplotlib.pyplot as plt\n",
    "\n",
    "from sklearn import decomposition"
   ]
  },
  {
   "cell_type": "markdown",
   "id": "9d769752-8f3d-48b5-95e1-dd6d336880b8",
   "metadata": {},
   "source": [
    "## Données"
   ]
  },
  {
   "cell_type": "code",
   "execution_count": 2,
   "id": "b004bc93",
   "metadata": {},
   "outputs": [
    {
     "name": "stdout",
     "output_type": "stream",
     "text": [
      "Le jeu de données contient 18 lignes et 89 colonnes.\n"
     ]
    }
   ],
   "source": [
    "data = pd.read_excel('data/resultats-par-niveau-reg-t1-france-entiere.xlsx')\n",
    "print(\"Le jeu de données contient\", data.shape[0], \"lignes et\", data.shape[1], \"colonnes.\")"
   ]
  },
  {
   "cell_type": "code",
   "execution_count": 3,
   "id": "952fe0e9-38bf-4d38-92cb-8982ae6abacb",
   "metadata": {},
   "outputs": [
    {
     "data": {
      "text/plain": [
       "Index(['Code de la région', 'Libellé de la région', 'Etat saisie', 'Inscrits',\n",
       "       'Abstentions', '% Abs/Ins', 'Votants', '% Vot/Ins', 'Blancs',\n",
       "       '% Blancs/Ins', '% Blancs/Vot', 'Nuls', '% Nuls/Ins', '% Nuls/Vot',\n",
       "       'Exprimés', '% Exp/Ins', '% Exp/Vot', 'Sexe', 'Nom', 'Prénom', 'Voix',\n",
       "       '% Voix/Ins', '% Voix/Exp', 'Unnamed: 23', 'Unnamed: 24', 'Unnamed: 25',\n",
       "       'Unnamed: 26', 'Unnamed: 27', 'Unnamed: 28', 'Unnamed: 29',\n",
       "       'Unnamed: 30', 'Unnamed: 31', 'Unnamed: 32', 'Unnamed: 33',\n",
       "       'Unnamed: 34', 'Unnamed: 35', 'Unnamed: 36', 'Unnamed: 37',\n",
       "       'Unnamed: 38', 'Unnamed: 39', 'Unnamed: 40', 'Unnamed: 41',\n",
       "       'Unnamed: 42', 'Unnamed: 43', 'Unnamed: 44', 'Unnamed: 45',\n",
       "       'Unnamed: 46', 'Unnamed: 47', 'Unnamed: 48', 'Unnamed: 49',\n",
       "       'Unnamed: 50', 'Unnamed: 51', 'Unnamed: 52', 'Unnamed: 53',\n",
       "       'Unnamed: 54', 'Unnamed: 55', 'Unnamed: 56', 'Unnamed: 57',\n",
       "       'Unnamed: 58', 'Unnamed: 59', 'Unnamed: 60', 'Unnamed: 61',\n",
       "       'Unnamed: 62', 'Unnamed: 63', 'Unnamed: 64', 'Unnamed: 65',\n",
       "       'Unnamed: 66', 'Unnamed: 67', 'Unnamed: 68', 'Unnamed: 69',\n",
       "       'Unnamed: 70', 'Unnamed: 71', 'Unnamed: 72', 'Unnamed: 73',\n",
       "       'Unnamed: 74', 'Unnamed: 75', 'Unnamed: 76', 'Unnamed: 77',\n",
       "       'Unnamed: 78', 'Unnamed: 79', 'Unnamed: 80', 'Unnamed: 81',\n",
       "       'Unnamed: 82', 'Unnamed: 83', 'Unnamed: 84', 'Unnamed: 85',\n",
       "       'Unnamed: 86', 'Unnamed: 87', 'Unnamed: 88'],\n",
       "      dtype='object')"
      ]
     },
     "execution_count": 3,
     "metadata": {},
     "output_type": "execute_result"
    }
   ],
   "source": [
    "data.columns"
   ]
  },
  {
   "cell_type": "markdown",
   "id": "97560fb9-06f8-4286-b887-379f8c3bc79d",
   "metadata": {},
   "source": [
    "### Description des données"
   ]
  },
  {
   "cell_type": "markdown",
   "id": "26f80dcb-c903-406d-8c84-b240fab46819",
   "metadata": {},
   "source": [
    "* Les colonnes [0:4] contiennent des informations administratives sur une circonscription électorale.\n",
    "* Les colonnes [4:17] contiennent des informations sur la manière dont cette circonscription électorale a voté.\n",
    "* A partir de la colonne 17, chaque quatre colonnes indiquent, respectivement, le sexe, le nom, le prénom d'un candidat, et le nombre de voix, la proportion des voix sur le nombre des inscrits, la proportion des voix sur le nombre des voix exprimées. \n",
    "\n",
    "Nous allons, alors, modifier la dimension des données de telle sorte qu'on ait une combinaison d'une région et un candidat par ligne. "
   ]
  },
  {
   "cell_type": "code",
   "execution_count": 4,
   "id": "ddc55fa6-704c-4b73-af51-45ee38b5c1ee",
   "metadata": {},
   "outputs": [
    {
     "name": "stdout",
     "output_type": "stream",
     "text": [
      "Le jeu de données contient désormais 216 lignes et 23 colonnes.\n"
     ]
    }
   ],
   "source": [
    "n = data.shape[1]\n",
    "\n",
    "candidats_list = list()\n",
    "for i in range(17, n, 6):\n",
    "    # à partir de la colonne 17, chaque 6 colonnes représentent un \n",
    "    # candidat de l'élection\n",
    "    \n",
    "    # pour chaque candidat, on récupère les données de la région et \n",
    "    # les votes pour le candidat dans cette région\n",
    "    df_candidat = pd.concat((data.iloc[:, :17], data.iloc[:, i:i+6]), axis=1)\n",
    "    \n",
    "    if i > 17:\n",
    "        # si  i == 17 nous sommes dans la première itération\n",
    "        # sinon, nous renommons les colonnes de df_candidat \n",
    "        # de la même manière que la DataFrame du 1er candidat\n",
    "        new_column_names = {\n",
    "            df_candidat.columns[i]: candidats_list[0].columns[i]\n",
    "            for i in range(17, len(df_candidat.columns))\n",
    "        }\n",
    "        \n",
    "        df_candidat = df_candidat.rename(columns=new_column_names)        \n",
    "    \n",
    "    # nous ajoutons df_candidat à la liste des DataFrames des \n",
    "    # candidats\n",
    "    candidats_list.append(df_candidat)\n",
    "\n",
    "# nous concaténons toutes les DataFrames des candidats dans une seule\n",
    "# DataFrame pour la suite de l'étude\n",
    "df = pd.concat(candidats_list, axis=0, ignore_index=True)\n",
    "print(\"Le jeu de données contient désormais\", df.shape[0], \"lignes et\", df.shape[1], \"colonnes.\")"
   ]
  },
  {
   "cell_type": "markdown",
   "id": "15bfc756",
   "metadata": {},
   "source": [
    "## Préparation des données"
   ]
  },
  {
   "cell_type": "markdown",
   "id": "371e05e8-8d15-4666-9ed2-9b67793358b0",
   "metadata": {},
   "source": [
    "Nous commençons, tout d'abord, par la suppression les colonnes constantes (avec une seule valeur unique). "
   ]
  },
  {
   "cell_type": "code",
   "execution_count": 5,
   "id": "82400ce9-5d07-41c6-a438-0be37bbab9b5",
   "metadata": {},
   "outputs": [
    {
     "data": {
      "text/plain": [
       "float64    10\n",
       "int64       8\n",
       "object      5\n",
       "dtype: int64"
      ]
     },
     "execution_count": 5,
     "metadata": {},
     "output_type": "execute_result"
    }
   ],
   "source": [
    "df.dtypes.value_counts()"
   ]
  },
  {
   "cell_type": "markdown",
   "id": "daba9726-e627-4fe7-b963-7d747a8bbd87",
   "metadata": {},
   "source": [
    "### Variables `object`"
   ]
  },
  {
   "cell_type": "code",
   "execution_count": 6,
   "id": "a8ab1d83-1848-4dfe-bcdc-8c600db33b20",
   "metadata": {},
   "outputs": [
    {
     "data": {
      "text/html": [
       "<div>\n",
       "<style scoped>\n",
       "    .dataframe tbody tr th:only-of-type {\n",
       "        vertical-align: middle;\n",
       "    }\n",
       "\n",
       "    .dataframe tbody tr th {\n",
       "        vertical-align: top;\n",
       "    }\n",
       "\n",
       "    .dataframe thead th {\n",
       "        text-align: right;\n",
       "    }\n",
       "</style>\n",
       "<table border=\"1\" class=\"dataframe\">\n",
       "  <thead>\n",
       "    <tr style=\"text-align: right;\">\n",
       "      <th></th>\n",
       "      <th>count</th>\n",
       "      <th>unique</th>\n",
       "      <th>top</th>\n",
       "      <th>freq</th>\n",
       "    </tr>\n",
       "  </thead>\n",
       "  <tbody>\n",
       "    <tr>\n",
       "      <th>Libellé de la région</th>\n",
       "      <td>216</td>\n",
       "      <td>18</td>\n",
       "      <td>Grand Est</td>\n",
       "      <td>12</td>\n",
       "    </tr>\n",
       "    <tr>\n",
       "      <th>Etat saisie</th>\n",
       "      <td>216</td>\n",
       "      <td>1</td>\n",
       "      <td>Complet</td>\n",
       "      <td>216</td>\n",
       "    </tr>\n",
       "    <tr>\n",
       "      <th>Sexe</th>\n",
       "      <td>216</td>\n",
       "      <td>2</td>\n",
       "      <td>M</td>\n",
       "      <td>144</td>\n",
       "    </tr>\n",
       "    <tr>\n",
       "      <th>Nom</th>\n",
       "      <td>216</td>\n",
       "      <td>12</td>\n",
       "      <td>ARTHAUD</td>\n",
       "      <td>18</td>\n",
       "    </tr>\n",
       "    <tr>\n",
       "      <th>Prénom</th>\n",
       "      <td>216</td>\n",
       "      <td>12</td>\n",
       "      <td>Nathalie</td>\n",
       "      <td>18</td>\n",
       "    </tr>\n",
       "  </tbody>\n",
       "</table>\n",
       "</div>"
      ],
      "text/plain": [
       "                     count unique        top freq\n",
       "Libellé de la région   216     18  Grand Est   12\n",
       "Etat saisie            216      1    Complet  216\n",
       "Sexe                   216      2          M  144\n",
       "Nom                    216     12    ARTHAUD   18\n",
       "Prénom                 216     12   Nathalie   18"
      ]
     },
     "execution_count": 6,
     "metadata": {},
     "output_type": "execute_result"
    }
   ],
   "source": [
    "df.describe(include=\"object\").T"
   ]
  },
  {
   "cell_type": "markdown",
   "id": "0d5e7c42-92ae-4f75-8bd2-1111f5ddd3ac",
   "metadata": {},
   "source": [
    "Nous remarquons que la variable `Etat saisie` contient une valeur unique pour toutes les lignes du jeu de données. Nous allons, alors, supprimer cette variable, puisqu'elle n'est pas informative."
   ]
  },
  {
   "cell_type": "code",
   "execution_count": 7,
   "id": "3a317d41-f71c-487d-9936-12d4eaffeae7",
   "metadata": {},
   "outputs": [],
   "source": [
    "df = df.drop(\"Etat saisie\", axis=1)"
   ]
  },
  {
   "cell_type": "markdown",
   "id": "f20471d0-d19e-4185-b6ac-825947788272",
   "metadata": {},
   "source": [
    "### Variables `int64`"
   ]
  },
  {
   "cell_type": "code",
   "execution_count": 8,
   "id": "cedad647-2f9c-4102-b658-5fc1f1ca8a56",
   "metadata": {},
   "outputs": [
    {
     "data": {
      "text/html": [
       "<div>\n",
       "<style scoped>\n",
       "    .dataframe tbody tr th:only-of-type {\n",
       "        vertical-align: middle;\n",
       "    }\n",
       "\n",
       "    .dataframe tbody tr th {\n",
       "        vertical-align: top;\n",
       "    }\n",
       "\n",
       "    .dataframe thead th {\n",
       "        text-align: right;\n",
       "    }\n",
       "</style>\n",
       "<table border=\"1\" class=\"dataframe\">\n",
       "  <thead>\n",
       "    <tr style=\"text-align: right;\">\n",
       "      <th></th>\n",
       "      <th>count</th>\n",
       "      <th>mean</th>\n",
       "      <th>std</th>\n",
       "      <th>min</th>\n",
       "      <th>25%</th>\n",
       "      <th>50%</th>\n",
       "      <th>75%</th>\n",
       "      <th>max</th>\n",
       "    </tr>\n",
       "  </thead>\n",
       "  <tbody>\n",
       "    <tr>\n",
       "      <th>Code de la région</th>\n",
       "      <td>216.0</td>\n",
       "      <td>3.938889e+01</td>\n",
       "      <td>3.236215e+01</td>\n",
       "      <td>1.0</td>\n",
       "      <td>6.00</td>\n",
       "      <td>30.0</td>\n",
       "      <td>75.00</td>\n",
       "      <td>94.0</td>\n",
       "    </tr>\n",
       "    <tr>\n",
       "      <th>Inscrits</th>\n",
       "      <td>216.0</td>\n",
       "      <td>2.602711e+06</td>\n",
       "      <td>2.066640e+06</td>\n",
       "      <td>92187.0</td>\n",
       "      <td>316023.00</td>\n",
       "      <td>2487905.0</td>\n",
       "      <td>4255350.00</td>\n",
       "      <td>7349284.0</td>\n",
       "    </tr>\n",
       "    <tr>\n",
       "      <th>Abstentions</th>\n",
       "      <td>216.0</td>\n",
       "      <td>6.434765e+05</td>\n",
       "      <td>4.655012e+05</td>\n",
       "      <td>55024.0</td>\n",
       "      <td>174592.00</td>\n",
       "      <td>567109.0</td>\n",
       "      <td>962499.00</td>\n",
       "      <td>1760727.0</td>\n",
       "    </tr>\n",
       "    <tr>\n",
       "      <th>Votants</th>\n",
       "      <td>216.0</td>\n",
       "      <td>1.959234e+06</td>\n",
       "      <td>1.607767e+06</td>\n",
       "      <td>37163.0</td>\n",
       "      <td>152403.00</td>\n",
       "      <td>1920796.0</td>\n",
       "      <td>3109141.00</td>\n",
       "      <td>5588557.0</td>\n",
       "    </tr>\n",
       "    <tr>\n",
       "      <th>Blancs</th>\n",
       "      <td>216.0</td>\n",
       "      <td>2.982917e+04</td>\n",
       "      <td>2.305618e+04</td>\n",
       "      <td>825.0</td>\n",
       "      <td>4001.00</td>\n",
       "      <td>30415.5</td>\n",
       "      <td>42945.00</td>\n",
       "      <td>76616.0</td>\n",
       "    </tr>\n",
       "    <tr>\n",
       "      <th>Nuls</th>\n",
       "      <td>216.0</td>\n",
       "      <td>1.345856e+04</td>\n",
       "      <td>9.215950e+03</td>\n",
       "      <td>553.0</td>\n",
       "      <td>3627.00</td>\n",
       "      <td>12433.0</td>\n",
       "      <td>24270.00</td>\n",
       "      <td>27967.0</td>\n",
       "    </tr>\n",
       "    <tr>\n",
       "      <th>Exprimés</th>\n",
       "      <td>216.0</td>\n",
       "      <td>1.915947e+06</td>\n",
       "      <td>1.576079e+06</td>\n",
       "      <td>35050.0</td>\n",
       "      <td>147372.00</td>\n",
       "      <td>1878491.5</td>\n",
       "      <td>3041926.00</td>\n",
       "      <td>5483974.0</td>\n",
       "    </tr>\n",
       "    <tr>\n",
       "      <th>Voix</th>\n",
       "      <td>216.0</td>\n",
       "      <td>1.596622e+05</td>\n",
       "      <td>2.763512e+05</td>\n",
       "      <td>206.0</td>\n",
       "      <td>9309.25</td>\n",
       "      <td>45273.0</td>\n",
       "      <td>130929.25</td>\n",
       "      <td>1658601.0</td>\n",
       "    </tr>\n",
       "  </tbody>\n",
       "</table>\n",
       "</div>"
      ],
      "text/plain": [
       "                   count          mean           std      min        25%  \\\n",
       "Code de la région  216.0  3.938889e+01  3.236215e+01      1.0       6.00   \n",
       "Inscrits           216.0  2.602711e+06  2.066640e+06  92187.0  316023.00   \n",
       "Abstentions        216.0  6.434765e+05  4.655012e+05  55024.0  174592.00   \n",
       "Votants            216.0  1.959234e+06  1.607767e+06  37163.0  152403.00   \n",
       "Blancs             216.0  2.982917e+04  2.305618e+04    825.0    4001.00   \n",
       "Nuls               216.0  1.345856e+04  9.215950e+03    553.0    3627.00   \n",
       "Exprimés           216.0  1.915947e+06  1.576079e+06  35050.0  147372.00   \n",
       "Voix               216.0  1.596622e+05  2.763512e+05    206.0    9309.25   \n",
       "\n",
       "                         50%         75%        max  \n",
       "Code de la région       30.0       75.00       94.0  \n",
       "Inscrits           2487905.0  4255350.00  7349284.0  \n",
       "Abstentions         567109.0   962499.00  1760727.0  \n",
       "Votants            1920796.0  3109141.00  5588557.0  \n",
       "Blancs               30415.5    42945.00    76616.0  \n",
       "Nuls                 12433.0    24270.00    27967.0  \n",
       "Exprimés           1878491.5  3041926.00  5483974.0  \n",
       "Voix                 45273.0   130929.25  1658601.0  "
      ]
     },
     "execution_count": 8,
     "metadata": {},
     "output_type": "execute_result"
    }
   ],
   "source": [
    "df.describe(include=\"int64\").T"
   ]
  },
  {
   "cell_type": "markdown",
   "id": "95c5d108-5e20-4d7f-8d26-1cf853184af5",
   "metadata": {},
   "source": [
    "Les variable `Code de la région` et `Libellé de la région` contiennent la même information. Nous allons, alors, virer `Libellé de la région`, mais nous gardons un dictionnaire pour l'interprétation des résultats après la modélisation. "
   ]
  },
  {
   "cell_type": "code",
   "execution_count": 9,
   "id": "90caa269-bad7-4e90-a552-1da5f7ec12ca",
   "metadata": {},
   "outputs": [],
   "source": [
    "code2libelle = {\n",
    "    data[\"Code de la région\"].iloc[i] :data[\"Libellé de la région\"].iloc[i] \n",
    "    for i in range(data.shape[0])\n",
    "}\n",
    "df = df.drop(\"Libellé de la région\", axis=1)"
   ]
  },
  {
   "cell_type": "markdown",
   "id": "264a740c-cbae-4164-aa72-1ddeec8e4596",
   "metadata": {},
   "source": [
    "Les variables restantes concernent la nature et le nombre des votes pour chaque régione et chaque candidat. Nous allons nous baser su ces variables dans notre clustering. "
   ]
  },
  {
   "cell_type": "markdown",
   "id": "ac3464b2-ea51-407b-92ab-ea98bbf827cc",
   "metadata": {},
   "source": [
    "### Variables `float64`"
   ]
  },
  {
   "cell_type": "code",
   "execution_count": 10,
   "id": "95269c55-9aa4-48d9-9907-b428d389208d",
   "metadata": {},
   "outputs": [
    {
     "data": {
      "text/html": [
       "<div>\n",
       "<style scoped>\n",
       "    .dataframe tbody tr th:only-of-type {\n",
       "        vertical-align: middle;\n",
       "    }\n",
       "\n",
       "    .dataframe tbody tr th {\n",
       "        vertical-align: top;\n",
       "    }\n",
       "\n",
       "    .dataframe thead th {\n",
       "        text-align: right;\n",
       "    }\n",
       "</style>\n",
       "<table border=\"1\" class=\"dataframe\">\n",
       "  <thead>\n",
       "    <tr style=\"text-align: right;\">\n",
       "      <th></th>\n",
       "      <th>count</th>\n",
       "      <th>mean</th>\n",
       "      <th>std</th>\n",
       "      <th>min</th>\n",
       "      <th>25%</th>\n",
       "      <th>50%</th>\n",
       "      <th>75%</th>\n",
       "      <th>max</th>\n",
       "    </tr>\n",
       "  </thead>\n",
       "  <tbody>\n",
       "    <tr>\n",
       "      <th>% Abs/Ins</th>\n",
       "      <td>216.0</td>\n",
       "      <td>33.611111</td>\n",
       "      <td>14.951546</td>\n",
       "      <td>21.21</td>\n",
       "      <td>22.9200</td>\n",
       "      <td>25.555</td>\n",
       "      <td>46.3600</td>\n",
       "      <td>63.84</td>\n",
       "    </tr>\n",
       "    <tr>\n",
       "      <th>% Vot/Ins</th>\n",
       "      <td>216.0</td>\n",
       "      <td>66.388889</td>\n",
       "      <td>14.951546</td>\n",
       "      <td>36.16</td>\n",
       "      <td>53.6400</td>\n",
       "      <td>74.445</td>\n",
       "      <td>77.0800</td>\n",
       "      <td>78.79</td>\n",
       "    </tr>\n",
       "    <tr>\n",
       "      <th>% Blancs/Ins</th>\n",
       "      <td>216.0</td>\n",
       "      <td>1.122778</td>\n",
       "      <td>0.155236</td>\n",
       "      <td>0.80</td>\n",
       "      <td>1.0100</td>\n",
       "      <td>1.100</td>\n",
       "      <td>1.2600</td>\n",
       "      <td>1.37</td>\n",
       "    </tr>\n",
       "    <tr>\n",
       "      <th>% Blancs/Vot</th>\n",
       "      <td>216.0</td>\n",
       "      <td>1.773889</td>\n",
       "      <td>0.434830</td>\n",
       "      <td>1.33</td>\n",
       "      <td>1.4800</td>\n",
       "      <td>1.655</td>\n",
       "      <td>1.9200</td>\n",
       "      <td>3.08</td>\n",
       "    </tr>\n",
       "    <tr>\n",
       "      <th>% Nuls/Ins</th>\n",
       "      <td>216.0</td>\n",
       "      <td>0.681111</td>\n",
       "      <td>0.292509</td>\n",
       "      <td>0.38</td>\n",
       "      <td>0.4800</td>\n",
       "      <td>0.555</td>\n",
       "      <td>1.0000</td>\n",
       "      <td>1.29</td>\n",
       "    </tr>\n",
       "    <tr>\n",
       "      <th>% Nuls/Vot</th>\n",
       "      <td>216.0</td>\n",
       "      <td>1.190556</td>\n",
       "      <td>0.823028</td>\n",
       "      <td>0.50</td>\n",
       "      <td>0.6500</td>\n",
       "      <td>0.750</td>\n",
       "      <td>1.6000</td>\n",
       "      <td>3.20</td>\n",
       "    </tr>\n",
       "    <tr>\n",
       "      <th>% Exp/Ins</th>\n",
       "      <td>216.0</td>\n",
       "      <td>64.585556</td>\n",
       "      <td>15.086044</td>\n",
       "      <td>34.82</td>\n",
       "      <td>51.3300</td>\n",
       "      <td>72.815</td>\n",
       "      <td>75.1700</td>\n",
       "      <td>77.03</td>\n",
       "    </tr>\n",
       "    <tr>\n",
       "      <th>% Exp/Vot</th>\n",
       "      <td>216.0</td>\n",
       "      <td>97.036667</td>\n",
       "      <td>1.196926</td>\n",
       "      <td>94.31</td>\n",
       "      <td>96.3000</td>\n",
       "      <td>97.670</td>\n",
       "      <td>97.8400</td>\n",
       "      <td>98.13</td>\n",
       "    </tr>\n",
       "    <tr>\n",
       "      <th>% Voix/Ins</th>\n",
       "      <td>216.0</td>\n",
       "      <td>5.382500</td>\n",
       "      <td>6.865727</td>\n",
       "      <td>0.19</td>\n",
       "      <td>0.7200</td>\n",
       "      <td>1.935</td>\n",
       "      <td>6.0525</td>\n",
       "      <td>25.26</td>\n",
       "    </tr>\n",
       "    <tr>\n",
       "      <th>% Voix/Exp</th>\n",
       "      <td>216.0</td>\n",
       "      <td>8.333519</td>\n",
       "      <td>10.939541</td>\n",
       "      <td>0.31</td>\n",
       "      <td>1.4375</td>\n",
       "      <td>2.850</td>\n",
       "      <td>12.8350</td>\n",
       "      <td>56.16</td>\n",
       "    </tr>\n",
       "  </tbody>\n",
       "</table>\n",
       "</div>"
      ],
      "text/plain": [
       "              count       mean        std    min      25%     50%      75%  \\\n",
       "% Abs/Ins     216.0  33.611111  14.951546  21.21  22.9200  25.555  46.3600   \n",
       "% Vot/Ins     216.0  66.388889  14.951546  36.16  53.6400  74.445  77.0800   \n",
       "% Blancs/Ins  216.0   1.122778   0.155236   0.80   1.0100   1.100   1.2600   \n",
       "% Blancs/Vot  216.0   1.773889   0.434830   1.33   1.4800   1.655   1.9200   \n",
       "% Nuls/Ins    216.0   0.681111   0.292509   0.38   0.4800   0.555   1.0000   \n",
       "% Nuls/Vot    216.0   1.190556   0.823028   0.50   0.6500   0.750   1.6000   \n",
       "% Exp/Ins     216.0  64.585556  15.086044  34.82  51.3300  72.815  75.1700   \n",
       "% Exp/Vot     216.0  97.036667   1.196926  94.31  96.3000  97.670  97.8400   \n",
       "% Voix/Ins    216.0   5.382500   6.865727   0.19   0.7200   1.935   6.0525   \n",
       "% Voix/Exp    216.0   8.333519  10.939541   0.31   1.4375   2.850  12.8350   \n",
       "\n",
       "                max  \n",
       "% Abs/Ins     63.84  \n",
       "% Vot/Ins     78.79  \n",
       "% Blancs/Ins   1.37  \n",
       "% Blancs/Vot   3.08  \n",
       "% Nuls/Ins     1.29  \n",
       "% Nuls/Vot     3.20  \n",
       "% Exp/Ins     77.03  \n",
       "% Exp/Vot     98.13  \n",
       "% Voix/Ins    25.26  \n",
       "% Voix/Exp    56.16  "
      ]
     },
     "execution_count": 10,
     "metadata": {},
     "output_type": "execute_result"
    }
   ],
   "source": [
    "df.describe(include=\"float64\").T"
   ]
  },
  {
   "cell_type": "markdown",
   "id": "b789fe24-07bf-465b-9b20-58a914dfab29",
   "metadata": {},
   "source": [
    "Les variables `float64` sont obtenues par des opérations sur les variables `int64`. Nous allons nous concentrer, dans notre étude, sur une modélisation avec ces variables quantitatives, sans utiliser les variables catégorielles (ou `ìnt64`)."
   ]
  },
  {
   "cell_type": "code",
   "execution_count": 11,
   "id": "dcb7ecbd-ad8a-4838-bb47-f570ddd95f69",
   "metadata": {},
   "outputs": [],
   "source": [
    "code = df[\"Code de la région\"].copy()\n",
    "df = pd.concat((code, df.select_dtypes(exclude=\"int\")), ignore_index=True, axis=1)"
   ]
  },
  {
   "cell_type": "code",
   "execution_count": 12,
   "id": "ed57497f-55b8-48f6-8272-2b6848081a8d",
   "metadata": {},
   "outputs": [],
   "source": [
    "idx = dict()\n",
    "for col in df.columns[df.dtypes==\"object\"]:\n",
    "    codes, uniques = pd.factorize(df[col])\n",
    "    idx[col] = uniques\n",
    "    df[col] = codes"
   ]
  },
  {
   "cell_type": "code",
   "execution_count": 13,
   "id": "809f783f-4cda-4764-a75f-61b4f279e583",
   "metadata": {},
   "outputs": [
    {
     "data": {
      "text/html": [
       "<div>\n",
       "<style scoped>\n",
       "    .dataframe tbody tr th:only-of-type {\n",
       "        vertical-align: middle;\n",
       "    }\n",
       "\n",
       "    .dataframe tbody tr th {\n",
       "        vertical-align: top;\n",
       "    }\n",
       "\n",
       "    .dataframe thead th {\n",
       "        text-align: right;\n",
       "    }\n",
       "</style>\n",
       "<table border=\"1\" class=\"dataframe\">\n",
       "  <thead>\n",
       "    <tr style=\"text-align: right;\">\n",
       "      <th></th>\n",
       "      <th>0</th>\n",
       "      <th>1</th>\n",
       "      <th>2</th>\n",
       "      <th>3</th>\n",
       "      <th>4</th>\n",
       "      <th>5</th>\n",
       "      <th>6</th>\n",
       "      <th>7</th>\n",
       "      <th>8</th>\n",
       "      <th>9</th>\n",
       "      <th>10</th>\n",
       "      <th>11</th>\n",
       "      <th>12</th>\n",
       "      <th>13</th>\n",
       "    </tr>\n",
       "  </thead>\n",
       "  <tbody>\n",
       "    <tr>\n",
       "      <th>0</th>\n",
       "      <td>44</td>\n",
       "      <td>26.10</td>\n",
       "      <td>73.90</td>\n",
       "      <td>1.09</td>\n",
       "      <td>1.48</td>\n",
       "      <td>0.48</td>\n",
       "      <td>0.65</td>\n",
       "      <td>72.32</td>\n",
       "      <td>97.87</td>\n",
       "      <td>0</td>\n",
       "      <td>0</td>\n",
       "      <td>0</td>\n",
       "      <td>0.48</td>\n",
       "      <td>0.67</td>\n",
       "    </tr>\n",
       "    <tr>\n",
       "      <th>1</th>\n",
       "      <td>75</td>\n",
       "      <td>21.57</td>\n",
       "      <td>78.43</td>\n",
       "      <td>1.20</td>\n",
       "      <td>1.53</td>\n",
       "      <td>0.61</td>\n",
       "      <td>0.77</td>\n",
       "      <td>76.63</td>\n",
       "      <td>97.70</td>\n",
       "      <td>0</td>\n",
       "      <td>0</td>\n",
       "      <td>0</td>\n",
       "      <td>0.41</td>\n",
       "      <td>0.54</td>\n",
       "    </tr>\n",
       "    <tr>\n",
       "      <th>2</th>\n",
       "      <td>84</td>\n",
       "      <td>22.10</td>\n",
       "      <td>77.90</td>\n",
       "      <td>1.26</td>\n",
       "      <td>1.62</td>\n",
       "      <td>0.46</td>\n",
       "      <td>0.59</td>\n",
       "      <td>76.18</td>\n",
       "      <td>97.79</td>\n",
       "      <td>0</td>\n",
       "      <td>0</td>\n",
       "      <td>0</td>\n",
       "      <td>0.42</td>\n",
       "      <td>0.55</td>\n",
       "    </tr>\n",
       "    <tr>\n",
       "      <th>3</th>\n",
       "      <td>27</td>\n",
       "      <td>22.92</td>\n",
       "      <td>77.08</td>\n",
       "      <td>1.32</td>\n",
       "      <td>1.72</td>\n",
       "      <td>0.58</td>\n",
       "      <td>0.76</td>\n",
       "      <td>75.17</td>\n",
       "      <td>97.52</td>\n",
       "      <td>0</td>\n",
       "      <td>0</td>\n",
       "      <td>0</td>\n",
       "      <td>0.53</td>\n",
       "      <td>0.71</td>\n",
       "    </tr>\n",
       "    <tr>\n",
       "      <th>4</th>\n",
       "      <td>53</td>\n",
       "      <td>21.21</td>\n",
       "      <td>78.79</td>\n",
       "      <td>1.24</td>\n",
       "      <td>1.58</td>\n",
       "      <td>0.52</td>\n",
       "      <td>0.66</td>\n",
       "      <td>77.03</td>\n",
       "      <td>97.76</td>\n",
       "      <td>0</td>\n",
       "      <td>0</td>\n",
       "      <td>0</td>\n",
       "      <td>0.51</td>\n",
       "      <td>0.66</td>\n",
       "    </tr>\n",
       "  </tbody>\n",
       "</table>\n",
       "</div>"
      ],
      "text/plain": [
       "   0      1      2     3     4     5     6      7      8   9   10  11    12  \\\n",
       "0  44  26.10  73.90  1.09  1.48  0.48  0.65  72.32  97.87   0   0   0  0.48   \n",
       "1  75  21.57  78.43  1.20  1.53  0.61  0.77  76.63  97.70   0   0   0  0.41   \n",
       "2  84  22.10  77.90  1.26  1.62  0.46  0.59  76.18  97.79   0   0   0  0.42   \n",
       "3  27  22.92  77.08  1.32  1.72  0.58  0.76  75.17  97.52   0   0   0  0.53   \n",
       "4  53  21.21  78.79  1.24  1.58  0.52  0.66  77.03  97.76   0   0   0  0.51   \n",
       "\n",
       "     13  \n",
       "0  0.67  \n",
       "1  0.54  \n",
       "2  0.55  \n",
       "3  0.71  \n",
       "4  0.66  "
      ]
     },
     "execution_count": 13,
     "metadata": {},
     "output_type": "execute_result"
    }
   ],
   "source": [
    "df.head()"
   ]
  },
  {
   "cell_type": "markdown",
   "id": "78b93dd5-aefc-4e94-a6dd-804692076939",
   "metadata": {},
   "source": [
    "## Modélisation par GMM"
   ]
  },
  {
   "cell_type": "code",
   "execution_count": 129,
   "id": "08d565c9-5adc-481e-87e6-ecdc62af84f5",
   "metadata": {},
   "outputs": [],
   "source": [
    "def run_em(G, y, n_iter, eps=1e-7):\n",
    "    n, d = y.shape\n",
    "    \n",
    "    mu = np.eye(G, d)\n",
    "    t_y = np.eye(G, n)\n",
    "    \n",
    "    tau = np.ones(G) / G\n",
    "    sigma = np.stack(list(np.eye(d) for _ in range(G)))\n",
    "    for _ in range(n_iter):\n",
    "        # E Step\n",
    "        for g in range(G):\n",
    "            for i in range(n):\n",
    "                t_y[g,i] = tau[g] * sp.multivariate_normal.pdf(y[i], mean=mu[g], cov=sigma[g, :,: ])\n",
    "            t_y[g, :] = t_y[g, :] / np.sum(t_y[g, :])\n",
    "            \n",
    "        # M Step\n",
    "        for g in range(G):\n",
    "            tau[g] = np.mean(t_y[g, :])\n",
    "            \n",
    "        for g in range(G):\n",
    "            mu[g] = np.sum(t_y[[g],: ].T* y, axis=0) / np.sum(t_y[g, :])\n",
    "        \n",
    "        for g in range(G):\n",
    "            sigma[g, :, :] = eps\n",
    "            for i in range(n):\n",
    "                y_mu_diff = (mu[g]-y[i]).reshape(-1, 1)\n",
    "                sigma[g, :, :] = sigma[g, :, :] + t_y[g, i] * np.dot(y_mu_diff,  y_mu_diff.T)\n",
    "            sigma[g, :, :] = sigma[g, :, :] / np.sum(t_y[g])\n",
    "            \n",
    "\n",
    "    return tau, mu, T"
   ]
  },
  {
   "cell_type": "code",
   "execution_count": null,
   "id": "ffd0a0f2-7ca3-44f7-a5f0-4e77feebe24a",
   "metadata": {},
   "outputs": [],
   "source": [
    "tau, mu, T = run_em(4, np.random.uniform(size=(100, 1)), 1000)"
   ]
  },
  {
   "cell_type": "code",
   "execution_count": null,
   "id": "8d04473a-80a7-464b-86b2-816ba669f893",
   "metadata": {},
   "outputs": [],
   "source": [
    "mu"
   ]
  },
  {
   "cell_type": "code",
   "execution_count": null,
   "id": "fcfad22e-4912-4c90-81a1-0db0a611e08e",
   "metadata": {},
   "outputs": [],
   "source": []
  }
 ],
 "metadata": {
  "kernelspec": {
   "display_name": "Python 3 (ipykernel)",
   "language": "python",
   "name": "python3"
  },
  "language_info": {
   "codemirror_mode": {
    "name": "ipython",
    "version": 3
   },
   "file_extension": ".py",
   "mimetype": "text/x-python",
   "name": "python",
   "nbconvert_exporter": "python",
   "pygments_lexer": "ipython3",
   "version": "3.10.9"
  }
 },
 "nbformat": 4,
 "nbformat_minor": 5
}
